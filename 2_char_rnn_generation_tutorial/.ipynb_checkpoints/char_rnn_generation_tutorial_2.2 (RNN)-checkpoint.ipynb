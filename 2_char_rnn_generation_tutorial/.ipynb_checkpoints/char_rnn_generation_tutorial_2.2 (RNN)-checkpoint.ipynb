{
 "cells": [
  {
   "cell_type": "code",
   "execution_count": 1,
   "metadata": {
    "ExecuteTime": {
     "end_time": "2024-02-27T21:14:30.168821Z",
     "start_time": "2024-02-27T21:14:29.693235Z"
    }
   },
   "outputs": [],
   "source": [
    "# For tips on running notebooks in Google Colab, see\n",
    "# https://pytorch.org/tutorials/beginner/colab\n",
    "%matplotlib inline"
   ]
  },
  {
   "cell_type": "markdown",
   "metadata": {},
   "source": [
    "\n",
    "# NLP From Scratch: Generating Names with a Character-Level RNN\n",
    "**Author**: [Sean Robertson](https://github.com/spro)\n",
    "\n",
    "This is our second of three tutorials on \"NLP From Scratch\".\n",
    "In the [first tutorial](/intermediate/char_rnn_classification_tutorial)\n",
    "we used a RNN to classify names into their language of origin. This time\n",
    "we'll turn around and generate names from languages.\n",
    "\n",
    "```sh\n",
    "> python sample.py Russian RUS\n",
    "Rovakov\n",
    "Uantov\n",
    "Shavakov\n",
    "\n",
    "> python sample.py German GER\n",
    "Gerren\n",
    "Ereng\n",
    "Rosher\n",
    "\n",
    "> python sample.py Spanish SPA\n",
    "Salla\n",
    "Parer\n",
    "Allan\n",
    "\n",
    "> python sample.py Chinese CHI\n",
    "Chan\n",
    "Hang\n",
    "Iun\n",
    "```\n",
    "We are still hand-crafting a small RNN with a few linear layers. The big\n",
    "difference is instead of predicting a category after reading in all the\n",
    "letters of a name, we input a category and output one letter at a time.\n",
    "Recurrently predicting characters to form language (this could also be\n",
    "done with words or other higher order constructs) is often referred to\n",
    "as a \"language model\".\n",
    "\n",
    "**Recommended Reading:**\n",
    "\n",
    "I assume you have at least installed PyTorch, know Python, and\n",
    "understand Tensors:\n",
    "\n",
    "-  https://pytorch.org/ For installation instructions\n",
    "-  :doc:`/beginner/deep_learning_60min_blitz` to get started with PyTorch in general\n",
    "-  :doc:`/beginner/pytorch_with_examples` for a wide and deep overview\n",
    "-  :doc:`/beginner/former_torchies_tutorial` if you are former Lua Torch user\n",
    "\n",
    "It would also be useful to know about RNNs and how they work:\n",
    "\n",
    "-  [The Unreasonable Effectiveness of Recurrent Neural\n",
    "   Networks](https://karpathy.github.io/2015/05/21/rnn-effectiveness/)_\n",
    "   shows a bunch of real life examples\n",
    "-  [Understanding LSTM\n",
    "   Networks](https://colah.github.io/posts/2015-08-Understanding-LSTMs/)_\n",
    "   is about LSTMs specifically but also informative about RNNs in\n",
    "   general\n",
    "\n",
    "I also suggest the previous tutorial, :doc:`/intermediate/char_rnn_classification_tutorial`\n",
    "\n",
    "\n",
    "## Preparing the Data\n",
    "\n",
    "<div class=\"alert alert-info\"><h4>Note</h4><p>Download the data from\n",
    "   [here](https://download.pytorch.org/tutorial/data.zip)\n",
    "   and extract it to the current directory.</p></div>\n",
    "\n",
    "See the last tutorial for more detail of this process. In short, there\n",
    "are a bunch of plain text files ``data/names/[Language].txt`` with a\n",
    "name per line. We split lines into an array, convert Unicode to ASCII,\n",
    "and end up with a dictionary ``{language: [names ...]}``.\n"
   ]
  },
  {
   "cell_type": "code",
   "execution_count": 2,
   "metadata": {
    "ExecuteTime": {
     "end_time": "2024-02-27T21:14:30.227010Z",
     "start_time": "2024-02-27T21:14:30.171325Z"
    }
   },
   "outputs": [
    {
     "name": "stdout",
     "output_type": "stream",
     "text": [
      "# categories: 18 ['Czech', 'German', 'Arabic', 'Japanese', 'Chinese', 'Vietnamese', 'Russian', 'French', 'Irish', 'English', 'Spanish', 'Greek', 'Italian', 'Portuguese', 'Scottish', 'Dutch', 'Korean', 'Polish']\n",
      "O'Neal\n"
     ]
    }
   ],
   "source": [
    "from io import open\n",
    "import glob\n",
    "import os\n",
    "import unicodedata\n",
    "import string\n",
    "\n",
    "all_letters = string.ascii_letters + \" .,;'-\"\n",
    "n_letters = len(all_letters) + 2 # Plus EOS marker and SOS marker\n",
    "\n",
    "def findFiles(path): return glob.glob(path)\n",
    "\n",
    "# Turn a Unicode string to plain ASCII, thanks to https://stackoverflow.com/a/518232/2809427\n",
    "def unicodeToAscii(s):\n",
    "    return ''.join(\n",
    "        c for c in unicodedata.normalize('NFD', s)\n",
    "        if unicodedata.category(c) != 'Mn'\n",
    "        and c in all_letters\n",
    "    )\n",
    "\n",
    "# Read a file and split into lines\n",
    "def readLines(filename):\n",
    "    with open(filename, encoding='utf-8') as some_file:\n",
    "        return [unicodeToAscii(line.strip()) for line in some_file]\n",
    "\n",
    "# Build the category_lines dictionary, a list of lines per category\n",
    "category_lines = {}\n",
    "all_categories = []\n",
    "for filename in findFiles('../data/names/*.txt'):\n",
    "    category = os.path.splitext(os.path.basename(filename))[0]\n",
    "    all_categories.append(category)\n",
    "    lines = readLines(filename)\n",
    "    category_lines[category] = lines\n",
    "\n",
    "n_categories = len(all_categories)\n",
    "\n",
    "if n_categories == 0:\n",
    "    raise RuntimeError('Data not found. Make sure that you downloaded data '\n",
    "        'from https://download.pytorch.org/tutorial/data.zip and extract it to '\n",
    "        'the current directory.')\n",
    "\n",
    "print('# categories:', n_categories, all_categories)\n",
    "print(unicodeToAscii(\"O'Néàl\"))"
   ]
  },
  {
   "cell_type": "markdown",
   "metadata": {},
   "source": [
    "## Creating the Network\n",
    "\n",
    "This network extends [the last tutorial's RNN](#Creating-the-Network)_\n",
    "with an extra argument for the category tensor, which is concatenated\n",
    "along with the others. The category tensor is a one-hot vector just like\n",
    "the letter input.\n",
    "\n",
    "We will interpret the output as the probability of the next letter. When\n",
    "sampling, the most likely output letter is used as the next input\n",
    "letter.\n",
    "\n",
    "I added a second linear layer ``o2o`` (after combining hidden and\n",
    "output) to give it more muscle to work with. There's also a dropout\n",
    "layer, which [randomly zeros parts of its\n",
    "input](https://arxiv.org/abs/1207.0580)_ with a given probability\n",
    "(here 0.1) and is usually used to fuzz inputs to prevent overfitting.\n",
    "Here we're using it towards the end of the network to purposely add some\n",
    "chaos and increase sampling variety.\n",
    "\n",
    ".. figure:: https://i.imgur.com/jzVrf7f.png\n",
    "   :alt:\n",
    "\n",
    "\n",
    "\n"
   ]
  },
  {
   "cell_type": "code",
   "execution_count": 3,
   "metadata": {
    "ExecuteTime": {
     "end_time": "2024-02-27T21:14:31.336338Z",
     "start_time": "2024-02-27T21:14:30.228910Z"
    }
   },
   "outputs": [],
   "source": [
    "import torch\n",
    "import torch.nn as nn\n",
    "\n",
    "class RNN(nn.Module):\n",
    "    def __init__(self, input_size, hidden_size, output_size):\n",
    "        super(RNN, self).__init__()\n",
    "        self.hidden_size = hidden_size\n",
    "\n",
    "        self.i2h = nn.Linear(n_categories + input_size + hidden_size, hidden_size)\n",
    "        self.i2o = nn.Linear(n_categories + input_size + hidden_size, output_size)\n",
    "        self.o2o = nn.Linear(hidden_size + output_size, output_size)\n",
    "        self.dropout = nn.Dropout(0.1)\n",
    "        self.softmax = nn.LogSoftmax(dim=1)\n",
    "\n",
    "    def forward(self, category, input, hidden):\n",
    "        input_combined = torch.cat((category, input, hidden), 1)\n",
    "        hidden = self.i2h(input_combined)\n",
    "        output = self.i2o(input_combined)\n",
    "        output_combined = torch.cat((hidden, output), 1)\n",
    "        output = self.o2o(output_combined)\n",
    "        output = self.dropout(output)\n",
    "        output = self.softmax(output)\n",
    "        return output, hidden\n",
    "\n",
    "    def initHidden(self):\n",
    "        return torch.zeros(1, self.hidden_size)"
   ]
  },
  {
   "cell_type": "code",
   "execution_count": 4,
   "metadata": {
    "ExecuteTime": {
     "end_time": "2024-02-27T21:14:31.347440Z",
     "start_time": "2024-02-27T21:14:31.340151Z"
    }
   },
   "outputs": [],
   "source": [
    "import torch\n",
    "import torch.nn as nn\n",
    "\n",
    "class RNN(nn.Module):\n",
    "    def __init__(self, input_size, hidden_size, output_size):\n",
    "        super(RNN, self).__init__()\n",
    "        self.hidden_size = hidden_size\n",
    "#         self.hidden_size_combined = hidden_size + n_categories\n",
    "        \n",
    "        self.rnn = nn.RNN(input_size = input_size, hidden_size = hidden_size)\n",
    "\n",
    "        #self.i2h = nn.Linear(n_categories + input_size + hidden_size, hidden_size)\n",
    "        #self.i2o = nn.Linear(n_categories + input_size + hidden_size, output_size)\n",
    "        #self.o2o = nn.Linear(hidden_size + output_size, output_size)\n",
    "        self.dropout = nn.Dropout(0.1)\n",
    "        self.softmax = nn.LogSoftmax(dim=1)\n",
    "        \n",
    "       # self.h2o = nn.Linear(self.hidden_size, output_size)\n",
    "        self.o2o = nn.Linear(self.hidden_size * 2 + n_categories, output_size)\n",
    "\n",
    "\n",
    "    def forward(self, category, input, hidden):\n",
    "        \n",
    "#         print(\"Input Shape: \", input.shape)\n",
    "#         print(\"Hidden Shape: \", hidden.shape)\n",
    "        \n",
    "        output, hidden = self.rnn(input, hidden)\n",
    "        \n",
    "#        print(\"Output Shape: \", output.shape)\n",
    " #       print(\"Hidden Shape: \", hidden.shape)\n",
    "        \n",
    "        output_combined = torch.cat((hidden, output, category), 1)\n",
    " #       print(\"output_combined Shape: \", output_combined.shape)\n",
    "\n",
    "        output = self.o2o(output_combined)\n",
    "\n",
    "        \n",
    "    #    print(\"Output 2 Shape: \", output.shape)\n",
    "        \n",
    "        \n",
    "        #hidden = self.i2h(input_combined)\n",
    "        #output = self.i2o(input_combined)\n",
    "        #output_combined = torch.cat((hidden, output), 1)\n",
    "        #output = self.o2o(output_combined)\n",
    "        #output = self.dropout(output)\n",
    "        output = self.softmax(output)\n",
    "        return output, hidden\n",
    "\n",
    "    def initHidden(self):\n",
    "        return torch.zeros(1, self.hidden_size)"
   ]
  },
  {
   "cell_type": "markdown",
   "metadata": {},
   "source": [
    "## Training\n",
    "Preparing for Training\n",
    "----------------------\n",
    "\n",
    "First of all, helper functions to get random pairs of (category, line):\n",
    "\n",
    "\n"
   ]
  },
  {
   "cell_type": "code",
   "execution_count": 5,
   "metadata": {
    "ExecuteTime": {
     "end_time": "2024-02-27T21:14:31.353046Z",
     "start_time": "2024-02-27T21:14:31.349725Z"
    }
   },
   "outputs": [],
   "source": [
    "import random\n",
    "\n",
    "# Random item from a list\n",
    "def randomChoice(l):\n",
    "    return l[random.randint(0, len(l) - 1)]\n",
    "\n",
    "# Get a random category and random line from that category\n",
    "def randomTrainingPair():\n",
    "    category = randomChoice(all_categories)\n",
    "    line = randomChoice(category_lines[category])\n",
    "    return category, line"
   ]
  },
  {
   "cell_type": "markdown",
   "metadata": {},
   "source": [
    "For each timestep (that is, for each letter in a training word) the\n",
    "inputs of the network will be\n",
    "``(category, current letter, hidden state)`` and the outputs will be\n",
    "``(next letter, next hidden state)``. So for each training set, we'll\n",
    "need the category, a set of input letters, and a set of output/target\n",
    "letters.\n",
    "\n",
    "Since we are predicting the next letter from the current letter for each\n",
    "timestep, the letter pairs are groups of consecutive letters from the\n",
    "line - e.g. for ``\"ABCD<EOS>\"`` we would create (\"A\", \"B\"), (\"B\", \"C\"),\n",
    "(\"C\", \"D\"), (\"D\", \"EOS\").\n",
    "\n",
    ".. figure:: https://i.imgur.com/JH58tXY.png\n",
    "   :alt:\n",
    "\n",
    "The category tensor is a [one-hot\n",
    "tensor](https://en.wikipedia.org/wiki/One-hot)_ of size\n",
    "``<1 x n_categories>``. When training we feed it to the network at every\n",
    "timestep - this is a design choice, it could have been included as part\n",
    "of initial hidden state or some other strategy.\n",
    "\n",
    "\n"
   ]
  },
  {
   "cell_type": "code",
   "execution_count": 6,
   "metadata": {
    "ExecuteTime": {
     "end_time": "2024-02-27T21:14:31.360980Z",
     "start_time": "2024-02-27T21:14:31.355243Z"
    }
   },
   "outputs": [],
   "source": [
    "# One-hot vector for category\n",
    "def categoryTensor(category):\n",
    "    li = all_categories.index(category)\n",
    "    tensor = torch.zeros(1, n_categories)\n",
    "    tensor[0][li] = 1\n",
    "    return tensor\n",
    "\n",
    "# One-hot matrix of first to last letters (including SOS but not including EOS) for input\n",
    "def inputTensor(line):\n",
    "    tensor = torch.zeros(len(line) + 1, 1, n_letters)\n",
    "    tensor[0][0][n_letters - 2] = 1\n",
    "    for li in range(len(line)):\n",
    "        letter = line[li]\n",
    "        tensor[li + 1][0][all_letters.find(letter)] = 1\n",
    "    return tensor\n",
    "\n",
    "# ``LongTensor`` of first letter to end (EOS) for target\n",
    "def targetTensor(line):\n",
    "    letter_indexes = [all_letters.find(line[li]) for li in range(len(line))]\n",
    "    letter_indexes.append(n_letters - 1) # EOS\n",
    "    return torch.LongTensor(letter_indexes)"
   ]
  },
  {
   "cell_type": "markdown",
   "metadata": {},
   "source": [
    "For convenience during training we'll make a ``randomTrainingExample``\n",
    "function that fetches a random (category, line) pair and turns them into\n",
    "the required (category, input, target) tensors.\n",
    "\n",
    "\n"
   ]
  },
  {
   "cell_type": "code",
   "execution_count": 7,
   "metadata": {
    "ExecuteTime": {
     "end_time": "2024-02-27T21:14:31.366254Z",
     "start_time": "2024-02-27T21:14:31.362947Z"
    }
   },
   "outputs": [],
   "source": [
    "# Make category, input, and target tensors from a random category, line pair\n",
    "def randomTrainingExample():\n",
    "    category, line = randomTrainingPair()\n",
    "    category_tensor = categoryTensor(category)\n",
    "    input_line_tensor = inputTensor(line)\n",
    "    target_line_tensor = targetTensor(line)\n",
    "    return category_tensor, input_line_tensor, target_line_tensor"
   ]
  },
  {
   "cell_type": "markdown",
   "metadata": {},
   "source": [
    "### Training the Network\n",
    "\n",
    "In contrast to classification, where only the last output is used, we\n",
    "are making a prediction at every step, so we are calculating loss at\n",
    "every step.\n",
    "\n",
    "The magic of autograd allows you to simply sum these losses at each step\n",
    "and call backward at the end.\n",
    "\n",
    "\n"
   ]
  },
  {
   "cell_type": "code",
   "execution_count": 8,
   "metadata": {
    "ExecuteTime": {
     "end_time": "2024-02-27T21:14:31.373537Z",
     "start_time": "2024-02-27T21:14:31.368428Z"
    }
   },
   "outputs": [],
   "source": [
    "criterion = nn.NLLLoss()\n",
    "\n",
    "learning_rate = 0.0005\n",
    "\n",
    "def train(category_tensor, input_line_tensor, target_line_tensor):\n",
    "    target_line_tensor.unsqueeze_(-1)\n",
    "    hidden = rnn.initHidden()\n",
    "\n",
    "    rnn.zero_grad()\n",
    "\n",
    "    loss = torch.Tensor([0]) # you can also just simply use ``loss = 0``\n",
    "\n",
    "    for i in range(input_line_tensor.size(0)):\n",
    "        output, hidden = rnn(category_tensor, input_line_tensor[i], hidden)\n",
    "        l = criterion(output, target_line_tensor[i])\n",
    "        loss += l\n",
    "\n",
    "    loss.backward()\n",
    "\n",
    "    for p in rnn.parameters():\n",
    "        p.data.add_(p.grad.data, alpha=-learning_rate)\n",
    "\n",
    "    return output, loss.item() / input_line_tensor.size(0)"
   ]
  },
  {
   "cell_type": "code",
   "execution_count": 9,
   "metadata": {
    "ExecuteTime": {
     "end_time": "2024-02-27T21:14:31.379736Z",
     "start_time": "2024-02-27T21:14:31.375703Z"
    }
   },
   "outputs": [],
   "source": [
    "rnn = RNN(n_letters, 128, n_letters)"
   ]
  },
  {
   "cell_type": "code",
   "execution_count": 10,
   "metadata": {
    "ExecuteTime": {
     "end_time": "2024-02-27T21:14:31.388269Z",
     "start_time": "2024-02-27T21:14:31.384635Z"
    }
   },
   "outputs": [],
   "source": [
    "category_tensor, input_line_tensor, target_line_tensor = randomTrainingExample()"
   ]
  },
  {
   "cell_type": "code",
   "execution_count": 11,
   "metadata": {
    "ExecuteTime": {
     "end_time": "2024-02-27T21:14:31.395779Z",
     "start_time": "2024-02-27T21:14:31.390362Z"
    }
   },
   "outputs": [
    {
     "data": {
      "text/plain": [
       "tensor([[40],\n",
       "        [56],\n",
       "        [27],\n",
       "        [17],\n",
       "        [ 8],\n",
       "        [ 0],\n",
       "        [13],\n",
       "        [59]])"
      ]
     },
     "execution_count": 11,
     "metadata": {},
     "output_type": "execute_result"
    }
   ],
   "source": [
    "target_line_tensor.unsqueeze_(-1)"
   ]
  },
  {
   "cell_type": "code",
   "execution_count": 12,
   "metadata": {
    "ExecuteTime": {
     "end_time": "2024-02-27T21:14:31.401147Z",
     "start_time": "2024-02-27T21:14:31.398440Z"
    }
   },
   "outputs": [],
   "source": [
    "hidden = rnn.initHidden()"
   ]
  },
  {
   "cell_type": "code",
   "execution_count": 13,
   "metadata": {
    "ExecuteTime": {
     "end_time": "2024-02-27T21:14:31.407613Z",
     "start_time": "2024-02-27T21:14:31.403826Z"
    }
   },
   "outputs": [
    {
     "data": {
      "text/plain": [
       "torch.Size([1, 18])"
      ]
     },
     "execution_count": 13,
     "metadata": {},
     "output_type": "execute_result"
    }
   ],
   "source": [
    "category_tensor.shape"
   ]
  },
  {
   "cell_type": "code",
   "execution_count": 14,
   "metadata": {
    "ExecuteTime": {
     "end_time": "2024-02-27T21:14:31.415232Z",
     "start_time": "2024-02-27T21:14:31.409968Z"
    }
   },
   "outputs": [
    {
     "data": {
      "text/plain": [
       "torch.Size([1, 128])"
      ]
     },
     "execution_count": 14,
     "metadata": {},
     "output_type": "execute_result"
    }
   ],
   "source": [
    "hidden.shape"
   ]
  },
  {
   "cell_type": "code",
   "execution_count": 15,
   "metadata": {
    "ExecuteTime": {
     "end_time": "2024-02-27T21:14:31.421400Z",
     "start_time": "2024-02-27T21:14:31.417214Z"
    }
   },
   "outputs": [
    {
     "data": {
      "text/plain": [
       "torch.Size([1, 60])"
      ]
     },
     "execution_count": 15,
     "metadata": {},
     "output_type": "execute_result"
    }
   ],
   "source": [
    "input_line_tensor[0].shape"
   ]
  },
  {
   "cell_type": "code",
   "execution_count": 16,
   "metadata": {
    "ExecuteTime": {
     "end_time": "2024-02-27T21:14:31.427582Z",
     "start_time": "2024-02-27T21:14:31.423544Z"
    }
   },
   "outputs": [],
   "source": [
    "output, hidden = rnn(category_tensor, input_line_tensor[0], hidden)"
   ]
  },
  {
   "cell_type": "markdown",
   "metadata": {},
   "source": [
    "To keep track of how long training takes I am adding a\n",
    "``timeSince(timestamp)`` function which returns a human readable string:\n",
    "\n",
    "\n"
   ]
  },
  {
   "cell_type": "code",
   "execution_count": 18,
   "metadata": {
    "ExecuteTime": {
     "end_time": "2024-02-27T21:14:31.445810Z",
     "start_time": "2024-02-27T21:14:31.441114Z"
    }
   },
   "outputs": [],
   "source": [
    "import time\n",
    "import math\n",
    "\n",
    "def timeSince(since):\n",
    "    now = time.time()\n",
    "    s = now - since\n",
    "    m = math.floor(s / 60)\n",
    "    s -= m * 60\n",
    "    return '%dm %ds' % (m, s)"
   ]
  },
  {
   "cell_type": "markdown",
   "metadata": {},
   "source": [
    "Training is business as usual - call train a bunch of times and wait a\n",
    "few minutes, printing the current time and loss every ``print_every``\n",
    "examples, and keeping store of an average loss per ``plot_every`` examples\n",
    "in ``all_losses`` for plotting later.\n",
    "\n",
    "\n"
   ]
  },
  {
   "cell_type": "code",
   "execution_count": 19,
   "metadata": {
    "ExecuteTime": {
     "end_time": "2024-02-27T21:18:45.939619Z",
     "start_time": "2024-02-27T21:14:31.449867Z"
    }
   },
   "outputs": [
    {
     "name": "stdout",
     "output_type": "stream",
     "text": [
      "0m 11s (5000 5%) 3.1086\n",
      "0m 23s (10000 10%) 2.4192\n",
      "0m 35s (15000 15%) 2.6177\n",
      "0m 48s (20000 20%) 2.5763\n",
      "1m 1s (25000 25%) 2.5934\n",
      "1m 13s (30000 30%) 2.3051\n",
      "1m 26s (35000 35%) 2.7019\n",
      "1m 40s (40000 40%) 2.6478\n",
      "1m 52s (45000 45%) 2.7168\n",
      "2m 5s (50000 50%) 2.4181\n",
      "2m 18s (55000 55%) 2.0886\n",
      "2m 31s (60000 60%) 2.8021\n",
      "2m 44s (65000 65%) 2.5241\n",
      "2m 57s (70000 70%) 2.3460\n",
      "3m 10s (75000 75%) 2.6398\n",
      "3m 23s (80000 80%) 2.5468\n",
      "3m 36s (85000 85%) 2.4047\n",
      "3m 48s (90000 90%) 1.6645\n",
      "4m 1s (95000 95%) 1.9944\n",
      "4m 14s (100000 100%) 2.1976\n"
     ]
    }
   ],
   "source": [
    "rnn = RNN(n_letters, 128, n_letters)\n",
    "\n",
    "n_iters = 100000\n",
    "print_every = 5000\n",
    "plot_every = 500\n",
    "all_losses = []\n",
    "total_loss = 0 # Reset every ``plot_every`` ``iters``\n",
    "\n",
    "start = time.time()\n",
    "\n",
    "for iter in range(1, n_iters + 1):\n",
    "    output, loss = train(*randomTrainingExample())\n",
    "    total_loss += loss\n",
    "\n",
    "    if iter % print_every == 0:\n",
    "        print('%s (%d %d%%) %.4f' % (timeSince(start), iter, iter / n_iters * 100, loss))\n",
    "\n",
    "    if iter % plot_every == 0:\n",
    "        all_losses.append(total_loss / plot_every)\n",
    "        total_loss = 0"
   ]
  },
  {
   "cell_type": "markdown",
   "metadata": {},
   "source": [
    "### Plotting the Losses\n",
    "\n",
    "Plotting the historical loss from all\\_losses shows the network\n",
    "learning:\n",
    "\n",
    "\n"
   ]
  },
  {
   "cell_type": "code",
   "execution_count": 20,
   "metadata": {
    "ExecuteTime": {
     "end_time": "2024-02-27T21:18:46.116120Z",
     "start_time": "2024-02-27T21:18:45.942612Z"
    }
   },
   "outputs": [
    {
     "data": {
      "text/plain": [
       "[<matplotlib.lines.Line2D at 0x7fb447be34c0>]"
      ]
     },
     "execution_count": 20,
     "metadata": {},
     "output_type": "execute_result"
    },
    {
     "data": {
      "image/png": "[encoded data removed]",
      "text/plain": [
       "<Figure size 640x480 with 1 Axes>"
      ]
     },
     "metadata": {},
     "output_type": "display_data"
    }
   ],
   "source": [
    "import matplotlib.pyplot as plt\n",
    "\n",
    "plt.figure()\n",
    "plt.plot(all_losses)"
   ]
  },
  {
   "cell_type": "markdown",
   "metadata": {},
   "source": [
    "## Sampling the Network\n",
    "\n",
    "To sample we give the network a letter and ask what the next one is,\n",
    "feed that in as the next letter, and repeat until the EOS token.\n",
    "\n",
    "-  Create tensors for input category, starting letter, and empty hidden\n",
    "   state\n",
    "-  Create a string ``output_name`` with the starting letter\n",
    "-  Up to a maximum output length,\n",
    "\n",
    "   -  Feed the current letter to the network\n",
    "   -  Get the next letter from highest output, and next hidden state\n",
    "   -  If the letter is EOS, stop here\n",
    "   -  If a regular letter, add to ``output_name`` and continue\n",
    "\n",
    "-  Return the final name\n",
    "\n",
    "<div class=\"alert alert-info\"><h4>Note</h4><p>Rather than having to give it a starting letter, another\n",
    "   strategy would have been to include a \"start of string\" token in\n",
    "   training and have the network choose its own starting letter.</p></div>\n",
    "\n",
    "\n"
   ]
  },
  {
   "cell_type": "code",
   "execution_count": 21,
   "metadata": {
    "ExecuteTime": {
     "end_time": "2024-02-27T21:18:46.122353Z",
     "start_time": "2024-02-27T21:18:46.118195Z"
    }
   },
   "outputs": [
    {
     "data": {
      "text/plain": [
       "tensor([[0., 0., 0., 0., 0., 0., 0., 0., 0., 0., 0., 0., 0., 0., 0., 0., 0., 0.,\n",
       "         0., 0., 0., 0., 0., 0., 0., 0., 0., 0., 0., 0., 0., 0., 0., 0., 0., 0.,\n",
       "         0., 0., 0., 0., 0., 0., 0., 0., 0., 0., 0., 0., 0., 0., 0., 0., 0., 0.,\n",
       "         0., 0., 0., 0., 1., 0.]])"
      ]
     },
     "execution_count": 21,
     "metadata": {},
     "output_type": "execute_result"
    }
   ],
   "source": [
    "inputTensor('')[0]"
   ]
  },
  {
   "cell_type": "code",
   "execution_count": 22,
   "metadata": {
    "ExecuteTime": {
     "end_time": "2024-02-27T21:18:46.127019Z",
     "start_time": "2024-02-27T21:18:46.124496Z"
    }
   },
   "outputs": [],
   "source": [
    "category_tensor = categoryTensor('Russian')"
   ]
  },
  {
   "cell_type": "code",
   "execution_count": 23,
   "metadata": {
    "ExecuteTime": {
     "end_time": "2024-02-27T21:18:46.132159Z",
     "start_time": "2024-02-27T21:18:46.129113Z"
    }
   },
   "outputs": [],
   "source": [
    "input = inputTensor(\"\")"
   ]
  },
  {
   "cell_type": "code",
   "execution_count": 24,
   "metadata": {
    "ExecuteTime": {
     "end_time": "2024-02-27T21:18:46.136661Z",
     "start_time": "2024-02-27T21:18:46.134080Z"
    }
   },
   "outputs": [],
   "source": [
    "hidden = rnn.initHidden()"
   ]
  },
  {
   "cell_type": "code",
   "execution_count": 25,
   "metadata": {
    "ExecuteTime": {
     "end_time": "2024-02-27T21:18:46.142135Z",
     "start_time": "2024-02-27T21:18:46.138689Z"
    }
   },
   "outputs": [],
   "source": [
    "output_2, hidden_2 = rnn(category_tensor, input[0], hidden)"
   ]
  },
  {
   "cell_type": "code",
   "execution_count": 26,
   "metadata": {
    "ExecuteTime": {
     "end_time": "2024-02-27T21:18:46.146945Z",
     "start_time": "2024-02-27T21:18:46.144280Z"
    }
   },
   "outputs": [],
   "source": [
    "topv, topi = output_2.topk(5)"
   ]
  },
  {
   "cell_type": "code",
   "execution_count": 27,
   "metadata": {
    "ExecuteTime": {
     "end_time": "2024-02-27T21:18:46.154550Z",
     "start_time": "2024-02-27T21:18:46.149923Z"
    }
   },
   "outputs": [],
   "source": [
    "letter = all_letters[topi[0][0]]"
   ]
  },
  {
   "cell_type": "code",
   "execution_count": 28,
   "metadata": {
    "ExecuteTime": {
     "end_time": "2024-02-27T21:18:46.170432Z",
     "start_time": "2024-02-27T21:18:46.165984Z"
    }
   },
   "outputs": [
    {
     "data": {
      "text/plain": [
       "torch.Size([2, 1, 60])"
      ]
     },
     "execution_count": 28,
     "metadata": {},
     "output_type": "execute_result"
    }
   ],
   "source": [
    "inputTensor(letter).shape"
   ]
  },
  {
   "cell_type": "code",
   "execution_count": 29,
   "metadata": {
    "ExecuteTime": {
     "end_time": "2024-02-27T21:18:46.177397Z",
     "start_time": "2024-02-27T21:18:46.172516Z"
    }
   },
   "outputs": [
    {
     "data": {
      "text/plain": [
       "torch.Size([1, 1, 60])"
      ]
     },
     "execution_count": 29,
     "metadata": {},
     "output_type": "execute_result"
    }
   ],
   "source": [
    "inputTensor(letter)[-1:, :, :].shape"
   ]
  },
  {
   "cell_type": "code",
   "execution_count": 30,
   "metadata": {
    "ExecuteTime": {
     "end_time": "2024-02-27T21:18:46.275349Z",
     "start_time": "2024-02-27T21:18:46.179668Z"
    }
   },
   "outputs": [
    {
     "name": "stdout",
     "output_type": "stream",
     "text": [
      "Czech\n",
      "Start letter: _ , Name: Sanger\n",
      "Start letter: C , Name: Chang\n",
      "Start letter: Z , Name: Zang\n",
      "Start letter: E , Name: Eang\n",
      "\n",
      "\n",
      "German\n",
      "Start letter: _ , Name: Sherren\n",
      "Start letter: G , Name: Gerren\n",
      "Start letter: E , Name: Ereng\n",
      "Start letter: R , Name: Rong\n",
      "\n",
      "\n",
      "Arabic\n",
      "Start letter: _ , Name: Sangara\n",
      "Start letter: A , Name: Alang\n",
      "Start letter: R , Name: Rang\n",
      "Start letter: A , Name: Alang\n",
      "\n",
      "\n",
      "Japanese\n",
      "Start letter: _ , Name: Sangara\n",
      "Start letter: J , Name: Jangara\n",
      "Start letter: A , Name: Alanga\n",
      "Start letter: P , Name: Pangara\n",
      "\n",
      "\n",
      "Chinese\n",
      "Start letter: _ , Name: San\n",
      "Start letter: C , Name: Chan\n",
      "Start letter: H , Name: Hang\n",
      "Start letter: I , Name: Iang\n",
      "\n",
      "\n",
      "Vietnamese\n",
      "Start letter: _ , Name: Shan\n",
      "Start letter: V , Name: Vang\n",
      "Start letter: I , Name: Iang\n",
      "Start letter: E , Name: Eung\n",
      "\n",
      "\n",
      "Russian\n",
      "Start letter: _ , Name: Shang\n",
      "Start letter: R , Name: Roung\n",
      "Start letter: U , Name: Uangalo\n",
      "Start letter: S , Name: Shang\n",
      "\n",
      "\n",
      "French\n",
      "Start letter: _ , Name: Sanger\n",
      "Start letter: F , Name: Farra\n",
      "Start letter: R , Name: Roure\n",
      "Start letter: E , Name: Erang\n",
      "\n",
      "\n",
      "Irish\n",
      "Start letter: _ , Name: Mangan\n",
      "Start letter: I , Name: Iangala\n",
      "Start letter: R , Name: Rang\n",
      "Start letter: I , Name: Iangala\n",
      "\n",
      "\n",
      "English\n",
      "Start letter: _ , Name: Sanger\n",
      "Start letter: E , Name: Ellen\n",
      "Start letter: N , Name: Nang\n",
      "Start letter: G , Name: Garen\n",
      "\n",
      "\n",
      "Spanish\n",
      "Start letter: _ , Name: Sangara\n",
      "Start letter: S , Name: Sangara\n",
      "Start letter: P , Name: Para\n",
      "Start letter: A , Name: Alang\n",
      "\n",
      "\n",
      "Greek\n",
      "Start letter: _ , Name: Sallas\n",
      "Start letter: G , Name: Garis\n",
      "Start letter: R , Name: Rouras\n",
      "Start letter: E , Name: Eangalos\n",
      "\n",
      "\n",
      "Italian\n",
      "Start letter: _ , Name: Sangari\n",
      "Start letter: I , Name: Iangari\n",
      "Start letter: T , Name: Tang\n",
      "Start letter: A , Name: Alang\n",
      "\n",
      "\n",
      "Portuguese\n",
      "Start letter: _ , Name: Sara\n",
      "Start letter: P , Name: Pare\n",
      "Start letter: O , Name: O'Derra\n",
      "Start letter: R , Name: Roura\n",
      "\n",
      "\n",
      "Scottish\n",
      "Start letter: _ , Name: Martan\n",
      "Start letter: S , Name: Sanger\n",
      "Start letter: C , Name: Chang\n",
      "Start letter: O , Name: O'Marton\n",
      "\n",
      "\n",
      "Dutch\n",
      "Start letter: _ , Name: Serter\n",
      "Start letter: D , Name: Deren\n",
      "Start letter: U , Name: Ueren\n",
      "Start letter: T , Name: Teren\n",
      "\n",
      "\n",
      "Korean\n",
      "Start letter: _ , Name: Shan\n",
      "Start letter: K , Name: Koun\n",
      "Start letter: O , Name: O'Han\n",
      "Start letter: R , Name: Rong\n",
      "\n",
      "\n",
      "Polish\n",
      "Start letter: _ , Name: Sangalo\n",
      "Start letter: P , Name: Pang\n",
      "Start letter: O , Name: O'Hang\n",
      "Start letter: L , Name: Laki\n",
      "\n",
      "\n"
     ]
    }
   ],
   "source": [
    "max_length = 20\n",
    "\n",
    "# Sample from a category and starting letter\n",
    "def sample(category, start_letter='A'):\n",
    "    with torch.no_grad():  # no need to track history in sampling\n",
    "        category_tensor = categoryTensor(category)\n",
    "        input = inputTensor(start_letter)\n",
    "        hidden = rnn.initHidden()\n",
    "        \n",
    "        # Take the first letter which is the SOS token\n",
    "        sos_input = input[:1, :, :]\n",
    "\n",
    "        output_name = \"\"\n",
    "        \n",
    "        # If there is a second start letter, pass the SOS token through the rnn once to get hidden state\n",
    "        if start_letter != \"\":\n",
    "            output, hidden = rnn(category_tensor, sos_input[0], hidden)\n",
    "            output_name += start_letter\n",
    "            # Take the second letter as the next input\n",
    "            input = input[1:, :, :]\n",
    "        else:\n",
    "            input = sos_input\n",
    "\n",
    "        for i in range(max_length):\n",
    "            output, hidden = rnn(category_tensor, input[0], hidden)\n",
    "            topv, topi = output.topk(1)\n",
    "            topi = topi[0][0]\n",
    "            if topi == n_letters - 1:\n",
    "                break\n",
    "            else:\n",
    "                letter = all_letters[topi]\n",
    "                output_name += letter\n",
    "            input = inputTensor(letter)[-1:, :, :] # Take only the last letter\n",
    "\n",
    "        return output_name\n",
    "\n",
    "# Get multiple samples from one category and multiple starting letters\n",
    "def samples(category, start_letters='ABC'):\n",
    "    print(\"Start letter: _\", \", Name: \" + sample(category, ''))\n",
    "    for start_letter in start_letters:\n",
    "        print(\"Start letter: \" + start_letter, \", Name: \" + sample(category, start_letter))\n",
    "\n",
    "for category in all_categories:\n",
    "    print(category)\n",
    "    samples(category, start_letters = category[0:3].upper())\n",
    "    print(\"\\n\")"
   ]
  },
  {
   "cell_type": "code",
   "execution_count": 31,
   "metadata": {
    "ExecuteTime": {
     "end_time": "2024-02-27T21:18:46.282109Z",
     "start_time": "2024-02-27T21:18:46.277532Z"
    }
   },
   "outputs": [
    {
     "data": {
      "text/plain": [
       "['Czech',\n",
       " 'German',\n",
       " 'Arabic',\n",
       " 'Japanese',\n",
       " 'Chinese',\n",
       " 'Vietnamese',\n",
       " 'Russian',\n",
       " 'French',\n",
       " 'Irish',\n",
       " 'English',\n",
       " 'Spanish',\n",
       " 'Greek',\n",
       " 'Italian',\n",
       " 'Portuguese',\n",
       " 'Scottish',\n",
       " 'Dutch',\n",
       " 'Korean',\n",
       " 'Polish']"
      ]
     },
     "execution_count": 31,
     "metadata": {},
     "output_type": "execute_result"
    }
   ],
   "source": [
    "all_categories"
   ]
  },
  {
   "cell_type": "markdown",
   "metadata": {},
   "source": [
    "## Exercises\n",
    "\n",
    "-  Try with a different dataset of category -> line, for example:\n",
    "\n",
    "   -  Fictional series -> Character name\n",
    "   -  Part of speech -> Word\n",
    "   -  Country -> City\n",
    "\n",
    "-  Use a \"start of sentence\" token so that sampling can be done without\n",
    "   choosing a start letter\n",
    "-  Get better results with a bigger and/or better shaped network\n",
    "\n",
    "   -  Try the ``nn.LSTM`` and ``nn.GRU`` layers\n",
    "   -  Combine multiple of these RNNs as a higher level network\n",
    "\n",
    "\n"
   ]
  }
 ],
 "metadata": {
  "kernelspec": {
   "display_name": "Python 3 (ipykernel)",
   "language": "python",
   "name": "python3"
  },
  "language_info": {
   "codemirror_mode": {
    "name": "ipython",
    "version": 3
   },
   "file_extension": ".py",
   "mimetype": "text/x-python",
   "name": "python",
   "nbconvert_exporter": "python",
   "pygments_lexer": "ipython3",
   "version": "3.9.12"
  },
  "toc": {
   "base_numbering": 1,
   "nav_menu": {},
   "number_sections": true,
   "sideBar": true,
   "skip_h1_title": false,
   "title_cell": "Table of Contents",
   "title_sidebar": "Contents",
   "toc_cell": false,
   "toc_position": {},
   "toc_section_display": true,
   "toc_window_display": false
  }
 },
 "nbformat": 4,
 "nbformat_minor": 1
}
